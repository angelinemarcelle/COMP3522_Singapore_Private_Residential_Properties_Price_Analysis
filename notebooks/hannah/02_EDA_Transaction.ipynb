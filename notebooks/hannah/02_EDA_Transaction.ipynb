{
 "cells": [
  {
   "cell_type": "code",
   "execution_count": 3,
   "metadata": {},
   "outputs": [
    {
     "name": "stdout",
     "output_type": "stream",
     "text": [
      "Error loading datasets/URA_Private_Property_Transaction_Data/ResidentialTransaction20250928153646.csv: [Errno 2] No such file or directory: 'datasets/URA_Private_Property_Transaction_Data/ResidentialTransaction20250928153646.csv'\n",
      "Error loading datasets/URA_Private_Property_Transaction_Data/ResidentialTransaction20250928153756.csv: [Errno 2] No such file or directory: 'datasets/URA_Private_Property_Transaction_Data/ResidentialTransaction20250928153756.csv'\n",
      "Error loading datasets/URA_Private_Property_Transaction_Data/ResidentialTransaction20250928153904.csv: [Errno 2] No such file or directory: 'datasets/URA_Private_Property_Transaction_Data/ResidentialTransaction20250928153904.csv'\n",
      "Error loading datasets/URA_Private_Property_Transaction_Data/ResidentialTransaction20250928154043.csv: [Errno 2] No such file or directory: 'datasets/URA_Private_Property_Transaction_Data/ResidentialTransaction20250928154043.csv'\n",
      "Error loading datasets/URA_Private_Property_Transaction_Data/ResidentialTransaction20250928154154.csv: [Errno 2] No such file or directory: 'datasets/URA_Private_Property_Transaction_Data/ResidentialTransaction20250928154154.csv'\n",
      "Error loading datasets/URA_Private_Property_Transaction_Data/ResidentialTransaction20250928154242.csv: [Errno 2] No such file or directory: 'datasets/URA_Private_Property_Transaction_Data/ResidentialTransaction20250928154242.csv'\n",
      "No files were successfully loaded.\n"
     ]
    }
   ],
   "source": [
    "import pandas as pd\n",
    "import glob\n",
    "import os\n",
    "\n",
    "# Define the file paths\n",
    "file_paths = [\n",
    "    '../../datasets/URA_Private_Property_Transaction_Data/ResidentialTransaction20250928153646.csv',\n",
    "    '../../datasets/URA_Private_Property_Transaction_Data/ResidentialTransaction20250928153756.csv',\n",
    "    '../../datasets/URA_Private_Property_Transaction_Data/ResidentialTransaction20250928153904.csv',\n",
    "    '../../datasets/URA_Private_Property_Transaction_Data/ResidentialTransaction20250928154043.csv',\n",
    "    '../../datasets/URA_Private_Property_Transaction_Data/ResidentialTransaction20250928154154.csv',\n",
    "    '../../datasets/URA_Private_Property_Transaction_Data/ResidentialTransaction20250928154242.csv'\n",
    "]\n",
    "\n",
    "# Read and combine all CSV files\n",
    "dataframes = []\n",
    "for file_path in file_paths:\n",
    "    try:\n",
    "        df = pd.read_csv(file_path)\n",
    "        print(f\"Loaded {file_path.split('/')[-1]}: {len(df)} rows, {len(df.columns)} columns\")\n",
    "        dataframes.append(df)\n",
    "    except Exception as e:\n",
    "        print(f\"Error loading {file_path}: {e}\")\n",
    "\n",
    "# Combine all dataframes\n",
    "if dataframes:\n",
    "    combined_df = pd.concat(dataframes, ignore_index=True)\n",
    "    print(f\"\\nCombined dataset: {len(combined_df)} total rows, {len(combined_df.columns)} columns\")\n",
    "    \n",
    "    # Check for duplicates\n",
    "    duplicates = combined_df.duplicated().sum()\n",
    "    print(f\"Duplicate rows found: {duplicates}\")\n",
    "    \n",
    "    if duplicates > 0:\n",
    "        combined_df = combined_df.drop_duplicates()\n",
    "        print(f\"After removing duplicates: {len(combined_df)} rows\")\n",
    "    \n",
    "    # Show basic info\n",
    "    print(f\"\\nDataset Info:\")\n",
    "    print(f\"Columns: {list(combined_df.columns)}\")\n",
    "    print(f\"\\nFirst few rows:\")\n",
    "    print(combined_df.head())\n",
    "    \n",
    "    print(f\"\\nData types:\")\n",
    "    print(combined_df.dtypes)\n",
    "    \n",
    "    print(f\"\\nMissing values:\")\n",
    "    print(combined_df.isnull().sum())\n",
    "    \n",
    "else:\n",
    "    print(\"No files were successfully loaded.\")"
   ]
  },
  {
   "cell_type": "code",
   "execution_count": null,
   "metadata": {},
   "outputs": [],
   "source": []
  }
 ],
 "metadata": {
  "kernelspec": {
   "display_name": ".venv",
   "language": "python",
   "name": "python3"
  },
  "language_info": {
   "codemirror_mode": {
    "name": "ipython",
    "version": 3
   },
   "file_extension": ".py",
   "mimetype": "text/x-python",
   "name": "python",
   "nbconvert_exporter": "python",
   "pygments_lexer": "ipython3",
   "version": "3.10.7"
  },
  "orig_nbformat": 4
 },
 "nbformat": 4,
 "nbformat_minor": 2
}
